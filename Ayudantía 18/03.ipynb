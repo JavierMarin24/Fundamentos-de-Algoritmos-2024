{
  "nbformat": 4,
  "nbformat_minor": 0,
  "metadata": {
    "colab": {
      "provenance": [],
      "authorship_tag": "ABX9TyP3vK9Wu6hDvqK37gLonCQL",
      "include_colab_link": true
    },
    "kernelspec": {
      "name": "python3",
      "display_name": "Python 3"
    },
    "language_info": {
      "name": "python"
    }
  },
  "cells": [
    {
      "cell_type": "markdown",
      "metadata": {
        "id": "view-in-github",
        "colab_type": "text"
      },
      "source": [
        "<a href=\"https://colab.research.google.com/github/JavierMarin24/Fundamentos-de-Algoritmos-2024/blob/main/Ayudant%C3%ADa%2018/03.ipynb\" target=\"_parent\"><img src=\"https://colab.research.google.com/assets/colab-badge.svg\" alt=\"Open In Colab\"/></a>"
      ]
    },
    {
      "cell_type": "markdown",
      "source": [
        "Ejercicio 1\n"
      ],
      "metadata": {
        "id": "pXI0nHyZXb0X"
      }
    },
    {
      "cell_type": "code",
      "execution_count": null,
      "metadata": {
        "id": "tUz0mGQ0WTIp"
      },
      "outputs": [],
      "source": [
        "#ENTRADA\n",
        "numero = int(input())\n",
        "\n",
        "#PROCESO\n",
        "antecesor = numero - 1\n",
        "sucesor = numero + 1\n",
        "\n",
        "#SALIDA\n",
        "print(\"El antecesor de\",numero,\"es\",antecesor)\n",
        "print(\"El sucesor de\",numero,\"es\",sucesor)"
      ]
    },
    {
      "cell_type": "markdown",
      "source": [
        "Ejercicio 2"
      ],
      "metadata": {
        "id": "ZCfBm0sEXeaX"
      }
    },
    {
      "cell_type": "code",
      "source": [
        "#ENTRADA\n",
        "lado = float(input())\n",
        "\n",
        "#PROCESO\n",
        "areaCubo = pow(lado,2) * 6\n",
        "volumenCubo = pow(lado,3)\n",
        "\n",
        "#SALIDA\n",
        "print(\"área del cubo =\",areaCubo)\n",
        "print(\"volumen del cubo =\",volumenCubo)"
      ],
      "metadata": {
        "id": "fHOsw4VWWUQs"
      },
      "execution_count": null,
      "outputs": []
    },
    {
      "cell_type": "markdown",
      "source": [
        "Ejercicio 3"
      ],
      "metadata": {
        "id": "-jgnHZESXgYo"
      }
    },
    {
      "cell_type": "code",
      "source": [
        "cantidadBebidas = int(input())\n",
        "\n",
        "jabas = cantidadBebidas // 12\n",
        "noTrasportadas = cantidadBebidas % 12\n",
        "\n",
        "print(\"Cantidad de jabas =\",jabas)\n",
        "print(\"quedan\",noTrasportadas,\"sin trasladar\")"
      ],
      "metadata": {
        "id": "00V-_yhiWc0X"
      },
      "execution_count": null,
      "outputs": []
    },
    {
      "cell_type": "markdown",
      "source": [
        "Ejercicio 4"
      ],
      "metadata": {
        "id": "-ZcZqkyxXiRq"
      }
    },
    {
      "cell_type": "code",
      "source": [
        "from math import sqrt\n",
        "\n",
        "catetoA = float(input())\n",
        "catetoB = float(input())\n",
        "\n",
        "hipotenusa = sqrt( catetoA**2 + catetoB**2 )\n",
        "\n",
        "print(round(hipotenusa,1))"
      ],
      "metadata": {
        "id": "tm0tGHKxWir_"
      },
      "execution_count": null,
      "outputs": []
    },
    {
      "cell_type": "markdown",
      "source": [
        "Ejercicio 5"
      ],
      "metadata": {
        "id": "DNfXQyT7Xjmo"
      }
    },
    {
      "cell_type": "code",
      "source": [
        "cantBebidas  = int(input())\n",
        "precioBebidas = int(input())\n",
        "cantPizzas  = int(input())\n",
        "precioPizzas = int(input())\n",
        "cantPalomitas = int(input())\n",
        "precioPalomitas = int(input())\n",
        "numPersonas = int(input())\n",
        "\n",
        "itemsComprados = cantBebidas + cantPizzas + cantPalomitas\n",
        "totalGastado = cantBebidas * precioBebidas + cantPizzas * precioPizzas + cantPalomitas * precioPalomitas\n",
        "cuotaInvitado = totalGastado / numPersonas\n",
        "\n",
        "print(\"Total gasto compra =\",totalGastado)\n",
        "print(\"Valor cuota por invitado =\",round(cuotaInvitado))\n",
        "print(\"Total items comprados =\",itemsComprados)"
      ],
      "metadata": {
        "id": "6bYKldJpWnXJ"
      },
      "execution_count": null,
      "outputs": []
    }
  ]
}