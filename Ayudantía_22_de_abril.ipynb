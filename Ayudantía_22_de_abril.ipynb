{
  "nbformat": 4,
  "nbformat_minor": 0,
  "metadata": {
    "colab": {
      "provenance": []
    },
    "kernelspec": {
      "name": "python3",
      "display_name": "Python 3"
    },
    "language_info": {
      "name": "python"
    }
  },
  "cells": [
    {
      "cell_type": "markdown",
      "source": [
        "Ejercicio 1"
      ],
      "metadata": {
        "id": "A1jqcPic6hLH"
      }
    },
    {
      "cell_type": "code",
      "execution_count": null,
      "metadata": {
        "id": "59I9IcGi6f66"
      },
      "outputs": [],
      "source": [
        "# ENTRADA\n",
        "numeroN = int(input())\n",
        "# PROCESO & SALIDA\n",
        "for auxiliar in range(0,numeroN+1) :\n",
        "    print(5**auxiliar,end=\" \")"
      ]
    },
    {
      "cell_type": "markdown",
      "source": [
        "Ejercicio 2"
      ],
      "metadata": {
        "id": "sAO6Y43D6nMR"
      }
    },
    {
      "cell_type": "code",
      "source": [
        "# entrada\n",
        "while True :\n",
        "    numeroN = int(input())\n",
        "    if numeroN >= 1 :\n",
        "        break\n",
        "\n",
        "# proceso\n",
        "sumatoria = 0\n",
        "for i in range(1,numeroN+1) :\n",
        "    sumatoria += i\n",
        "\n",
        "# salida\n",
        "print(\"Sumatoria de 1 a\",numeroN ,\"=\",sumatoria)"
      ],
      "metadata": {
        "id": "NRPq4aGc6oQ6"
      },
      "execution_count": null,
      "outputs": []
    },
    {
      "cell_type": "markdown",
      "source": [
        "Ejercicio 3"
      ],
      "metadata": {
        "id": "e60rtDsB6tMt"
      }
    },
    {
      "cell_type": "code",
      "source": [
        "# ENTRADA\n",
        "base = float(input())\n",
        "expo = int(input())\n",
        "\n",
        "# PROCESO\n",
        "resultado = 1\n",
        "for contador in range(1,expo+1) :\n",
        "    resultado *= base\n",
        "print(resultado)"
      ],
      "metadata": {
        "id": "wiiM4B6r6uVa"
      },
      "execution_count": null,
      "outputs": []
    },
    {
      "cell_type": "markdown",
      "source": [
        "Ejercicio 4"
      ],
      "metadata": {
        "id": "CCBI4PVQ6wqe"
      }
    },
    {
      "cell_type": "code",
      "source": [
        "# ENTRADA\n",
        "while True:\n",
        "    numeroN = int(input())\n",
        "    if numeroN >= 1 and numeroN <= 100 :\n",
        "        break\n",
        "\n",
        "# PROCESO\n",
        "sumaDenominador = 0\n",
        "for cont in range (numeroN) :\n",
        "    num = float(input())\n",
        "    sumaDenominador += 1/num\n",
        "mediaArmonica = numeroN / sumaDenominador\n",
        "\n",
        "# SALIDA\n",
        "print(\"Media Armonica =\",mediaArmonica)"
      ],
      "metadata": {
        "id": "48y-_pzJ6x-X"
      },
      "execution_count": null,
      "outputs": []
    },
    {
      "cell_type": "markdown",
      "source": [
        "Ejercicio 5"
      ],
      "metadata": {
        "id": "fhbPSy1b64j-"
      }
    },
    {
      "cell_type": "code",
      "source": [
        "# ENTRADA\n",
        "combustible = int(input())\n",
        "\n",
        "# PROCESO & SALIDA\n",
        "while combustible >= 0 :\n",
        "    print(combustible,end=\" \")\n",
        "    combustible -= 20"
      ],
      "metadata": {
        "id": "UVoTlSTA66CW"
      },
      "execution_count": null,
      "outputs": []
    },
    {
      "cell_type": "markdown",
      "source": [
        "Ejercicio 6"
      ],
      "metadata": {
        "id": "mbzWP_jX68-X"
      }
    },
    {
      "cell_type": "code",
      "source": [
        "# ENTRADA\n",
        "numero = int(input())\n",
        "\n",
        "# PROCESO\n",
        "multiplicacion = 1\n",
        "i = 1\n",
        "while multiplicacion < numero :\n",
        "    i = i + 1\n",
        "    multiplicacion = multiplicacion * i\n",
        "\n",
        "# SALIDA\n",
        "if numero == 1 :\n",
        "    print(\"1 es factorial exacto de 1 y 0\")\n",
        "elif multiplicacion == numero :\n",
        "    print(numero,\"es factorial exacto de\", i)\n",
        "else :\n",
        "    print(numero,\"no es factorial exacto\")"
      ],
      "metadata": {
        "id": "qhebC_pl6-HF"
      },
      "execution_count": null,
      "outputs": []
    }
  ]
}