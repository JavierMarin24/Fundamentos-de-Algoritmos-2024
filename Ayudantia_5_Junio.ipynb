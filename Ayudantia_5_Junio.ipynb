{
  "nbformat": 4,
  "nbformat_minor": 0,
  "metadata": {
    "colab": {
      "provenance": [],
      "authorship_tag": "ABX9TyN9PfrROMdJ40GPjxYr/d7W",
      "include_colab_link": true
    },
    "kernelspec": {
      "name": "python3",
      "display_name": "Python 3"
    },
    "language_info": {
      "name": "python"
    }
  },
  "cells": [
    {
      "cell_type": "markdown",
      "metadata": {
        "id": "view-in-github",
        "colab_type": "text"
      },
      "source": [
        "<a href=\"https://colab.research.google.com/github/JavierMarin24/Fundamentos-de-Algoritmos-2024/blob/main/Ayudantia_5_Junio.ipynb\" target=\"_parent\"><img src=\"https://colab.research.google.com/assets/colab-badge.svg\" alt=\"Open In Colab\"/></a>"
      ]
    },
    {
      "cell_type": "markdown",
      "source": [
        "Pregunta 1"
      ],
      "metadata": {
        "id": "Z0YEKgVq5yHP"
      }
    },
    {
      "cell_type": "code",
      "execution_count": null,
      "metadata": {
        "id": "3NABBosbuDja"
      },
      "outputs": [],
      "source": [
        "def poblarLista(tot) :\n",
        "    lis = []\n",
        "    for ind in range(tot) :\n",
        "        dato = int(input())\n",
        "        lis.append(dato)\n",
        "    return lis\n",
        "\n",
        "# main\n",
        "n = int(input())\n",
        "miLista = poblarLista(n)\n",
        "print(\"Lista =\",miLista)\n",
        "nueva = sorted(miLista)\n",
        "nueva.reverse()\n",
        "if miLista == nueva :\n",
        "    print(\"Lista SI esta en orden decreciente\")\n",
        "else :\n",
        "    print(\"Lista NO esta en orden decreciente\")\n",
        "# fin"
      ]
    },
    {
      "cell_type": "markdown",
      "source": [
        "Pregunta 2\n"
      ],
      "metadata": {
        "id": "dabrP84l50Hq"
      }
    },
    {
      "cell_type": "code",
      "source": [
        "from math import sqrt\n",
        "\n",
        "def poblarLista(nn):\n",
        "    lis = []\n",
        "    for aux in range(nn) :\n",
        "        dato = int(input())\n",
        "        lis += [dato]\n",
        "    return lis\n",
        "\n",
        "def fnDE (nn,prom,lista) :\n",
        "    suma = 0\n",
        "    for elem in lista :\n",
        "        suma = suma + (elem - prom)**2\n",
        "    return sqrt( suma/(nn-1))\n",
        "\n",
        "# main\n",
        "n = int(input())\n",
        "listaEdades = poblarLista(n)\n",
        "print(\"Lista de Edades =\",listaEdades)\n",
        "promedio = sum(listaEdades)/len(listaEdades)\n",
        "print(\"Promedio de Edades =\",round(promedio,1))\n",
        "valorDE = fnDE (n,promedio,listaEdades)\n",
        "print(\"Desviación Estándar de la muestra =\",round(valorDE,4))\n",
        "# fin"
      ],
      "metadata": {
        "id": "-AqVkfK8uzaB"
      },
      "execution_count": null,
      "outputs": []
    },
    {
      "cell_type": "markdown",
      "source": [
        "Pregunta 3"
      ],
      "metadata": {
        "id": "HFvrdHvc52aJ"
      }
    },
    {
      "cell_type": "code",
      "source": [
        "def poblarLista(n) :\n",
        "    lis = []\n",
        "    for aux in range(n) :\n",
        "        dato = int(input())\n",
        "        lis += [dato]\n",
        "    return lis\n",
        "\n",
        "def determinaPorcentajeSim(nn,lis1,lis2):\n",
        "    iguales = 0\n",
        "    for aux in range(nn) :\n",
        "        if lis1[aux] == lis2[aux] :\n",
        "            iguales = iguales + 1\n",
        "    return ( iguales / n ) * 100\n",
        "\n",
        "# main\n",
        "n = int(input())\n",
        "bits1 = poblarLista(n)\n",
        "bits2 = poblarLista(n)\n",
        "print(\"cadena de bits 1 =\",bits1)\n",
        "print(\"cadena de bits 2 =\",bits2)\n",
        "porcent = determinaPorcentajeSim(n,bits1,bits2)\n",
        "print(\"El porcentaje de similitud es de un\",round(porcent,1),\"%\")\n",
        "# fin"
      ],
      "metadata": {
        "id": "X86IAFG5vQ1Y"
      },
      "execution_count": null,
      "outputs": []
    },
    {
      "cell_type": "markdown",
      "source": [
        "Pregunta 4\n"
      ],
      "metadata": {
        "id": "HE-kf3OF54pZ"
      }
    },
    {
      "cell_type": "code",
      "source": [
        "def poblarLista(nn):\n",
        "    lis = []\n",
        "    for aux in range(nn) :\n",
        "        dato = int(input())\n",
        "        lis += [dato]\n",
        "    return lis\n",
        "\n",
        "def esEspaldaCamello (nn,L):\n",
        "    for ind in range (1,nn-1) :\n",
        "        if not ( (L[ind]<L[ind-1] and L[ind]<L[ind+1] )\n",
        "                or (L[ind]>L[ind-1] and L[ind]>L[ind+1] ) ) :\n",
        "                    return False\n",
        "    return True\n",
        "\n",
        "# main\n",
        "n = int(input())\n",
        "miLista = poblarLista(n)\n",
        "print(\"Lista =\",miLista)\n",
        "if esEspaldaCamello(n,miLista) :\n",
        "    resp = \"SI\"\n",
        "else :\n",
        "    resp = \"NO\"\n",
        "print(\"La lista\",resp,\"es espalda de camello\")\n",
        "# fin"
      ],
      "metadata": {
        "id": "Yx7HBaZ7vRGx"
      },
      "execution_count": null,
      "outputs": []
    }
  ]
}