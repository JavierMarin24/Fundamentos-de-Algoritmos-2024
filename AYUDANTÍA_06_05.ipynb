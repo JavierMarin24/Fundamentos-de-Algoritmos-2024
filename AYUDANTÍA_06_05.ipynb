{
  "nbformat": 4,
  "nbformat_minor": 0,
  "metadata": {
    "colab": {
      "provenance": []
    },
    "kernelspec": {
      "name": "python3",
      "display_name": "Python 3"
    },
    "language_info": {
      "name": "python"
    }
  },
  "cells": [
    {
      "cell_type": "markdown",
      "source": [
        "# Ejercicio 1"
      ],
      "metadata": {
        "id": "vI2HmetlGBKQ"
      }
    },
    {
      "cell_type": "code",
      "source": [
        "def convetirAMetros (medidaCms):\n",
        "    medidaEnMetros = medidaCms /100\n",
        "    return medidaEnMetros"
      ],
      "metadata": {
        "id": "FtBAAAQiGDO-"
      },
      "execution_count": null,
      "outputs": []
    },
    {
      "cell_type": "markdown",
      "source": [
        "#Ejercicio 2"
      ],
      "metadata": {
        "id": "kW54_RyVGS91"
      }
    },
    {
      "cell_type": "code",
      "source": [
        "from math import pi\n",
        "\n",
        "def calculaPeriodo (freqAngular):\n",
        "    resultado = 2 * pi / freqAngular\n",
        "    return resultado"
      ],
      "metadata": {
        "id": "Axu7fSwnGVbM"
      },
      "execution_count": null,
      "outputs": []
    },
    {
      "cell_type": "markdown",
      "source": [
        "#Ejercicio 3"
      ],
      "metadata": {
        "id": "RhTYzvEpGYSm"
      }
    },
    {
      "cell_type": "code",
      "source": [
        "def factorial(num):\n",
        "    fact = 1\n",
        "\n",
        "    for i in range(1, num+1):\n",
        "        fact *= i\n",
        "\n",
        "    return fact"
      ],
      "metadata": {
        "id": "063QjVBXGZ5E"
      },
      "execution_count": null,
      "outputs": []
    },
    {
      "cell_type": "markdown",
      "source": [
        "#Ejercicio 4"
      ],
      "metadata": {
        "id": "xESQvfMvGciw"
      }
    },
    {
      "cell_type": "code",
      "source": [
        "def sumaSerieAlternada(N):\n",
        "    sumatoria = 0\n",
        "    termino = 2\n",
        "\n",
        "    for i in range(N):\n",
        "        sumatoria += termino\n",
        "\n",
        "        if termino % 2 == 0:\n",
        "            termino += 7\n",
        "        else:\n",
        "            termino -= 3\n",
        "\n",
        "    return sumatoria"
      ],
      "metadata": {
        "id": "utxdG5MvGcEo"
      },
      "execution_count": null,
      "outputs": []
    },
    {
      "cell_type": "markdown",
      "source": [
        "#Ejercicio 5"
      ],
      "metadata": {
        "id": "vheqB_llGi8e"
      }
    },
    {
      "cell_type": "code",
      "source": [
        "def sucesionPadovan(n):\n",
        "    n1 = 1\n",
        "    n2 = 1\n",
        "    n3 = 1\n",
        "    terminoN = 1\n",
        "\n",
        "    for i in range(1, n+1):\n",
        "        if i > 1:\n",
        "            print(\",\", end = \" \")\n",
        "        if i > 3:\n",
        "            terminoN = n1 + n2\n",
        "            n1 = n2\n",
        "            n2 = n3\n",
        "            n3 = terminoN\n",
        "\n",
        "        print(terminoN, end = \"\")\n",
        "\n",
        "    print(\".\")"
      ],
      "metadata": {
        "id": "POCBXOERGgiX"
      },
      "execution_count": 2,
      "outputs": []
    },
    {
      "cell_type": "markdown",
      "source": [
        "#Ejercicio 6"
      ],
      "metadata": {
        "id": "VP5NGhNGGpyu"
      }
    },
    {
      "cell_type": "code",
      "source": [
        "def dibujarTriangulo1(caracter, altura):\n",
        "    for nivel in range(1, altura+1):\n",
        "        for j in range(nivel):\n",
        "            print(caracter, end = \" \")\n",
        "        print()\n",
        "\n",
        "def dibujarTriangulo2(caracter, altura):\n",
        "    totalEspacios = 0\n",
        "\n",
        "    for nivel in range(altura):\n",
        "        for j in range(totalEspacios):\n",
        "            print(\" \", end = \"\")\n",
        "\n",
        "        totalEspacios += 2\n",
        "\n",
        "        totalCaracteres = altura - nivel\n",
        "\n",
        "        for k in range(totalCaracteres):\n",
        "            print(caracter, end = \" \")\n",
        "\n",
        "        print()\n",
        "\n",
        "\n",
        "def dibujarTriangulo3(caracter, altura):\n",
        "    for nivel in range(altura, 0, -1):\n",
        "        for j in range(nivel):\n",
        "            print(caracter, end = \" \")\n",
        "        print()\n",
        "\n",
        "def dibujaTrianguloRectangulo(caracter,altura,opcion):\n",
        "    if opcion == 1:\n",
        "        dibujarTriangulo1(caracter, altura)\n",
        "    elif opcion == 2:\n",
        "        dibujarTriangulo2(caracter, altura)\n",
        "    else:\n",
        "        dibujarTriangulo3(caracter, altura)"
      ],
      "metadata": {
        "id": "VLUW4d32GpNo"
      },
      "execution_count": null,
      "outputs": []
    }
  ]
}