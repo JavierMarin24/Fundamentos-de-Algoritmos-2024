{
  "nbformat": 4,
  "nbformat_minor": 0,
  "metadata": {
    "colab": {
      "provenance": [],
      "authorship_tag": "ABX9TyO8nw+KSjXNxLQpz4fGdoFy",
      "include_colab_link": true
    },
    "kernelspec": {
      "name": "python3",
      "display_name": "Python 3"
    },
    "language_info": {
      "name": "python"
    }
  },
  "cells": [
    {
      "cell_type": "markdown",
      "metadata": {
        "id": "view-in-github",
        "colab_type": "text"
      },
      "source": [
        "<a href=\"https://colab.research.google.com/github/JavierMarin24/Fundamentos-de-Algoritmos-2024/blob/main/Ayudantia26Junio.ipynb\" target=\"_parent\"><img src=\"https://colab.research.google.com/assets/colab-badge.svg\" alt=\"Open In Colab\"/></a>"
      ]
    },
    {
      "cell_type": "code",
      "execution_count": null,
      "metadata": {
        "id": "utuMpL3YV8Q0"
      },
      "outputs": [],
      "source": [
        "def leerDatosSinRepeticiones() :\n",
        "    lista = []\n",
        "    while True :\n",
        "        dato = int(input())\n",
        "        if dato == 0 : return lista\n",
        "        if not (dato in lista) :\n",
        "            lista.append(dato)\n",
        "\n",
        "def sumaDigitosCuadrado(numero):\n",
        "    suma = 0\n",
        "    while numero != 0 :\n",
        "        digito = numero % 10\n",
        "        cuadrado = digito ** 2\n",
        "        suma += cuadrado\n",
        "        numero //= 10\n",
        "    return suma\n",
        "\n",
        "def esFeliz(numero) :\n",
        "    while True :\n",
        "        numero = sumaDigitosCuadrado(numero)\n",
        "        if numero == 1 : return True\n",
        "        if numero == 89 : return False\n",
        "\n",
        "def obtenerFelicesOrdenados(lista) :\n",
        "    listaFelices = []\n",
        "    for elemento in lista :\n",
        "        if esFeliz(elemento) :\n",
        "            listaFelices.append(elemento)\n",
        "    return sorted(listaFelices)\n"
      ]
    },
    {
      "cell_type": "code",
      "source": [
        "def leerCadenas():\n",
        "    listaNumeros = []\n",
        "    while True:\n",
        "        cadena = input()\n",
        "        if(cadena == \"FIN\"):\n",
        "            return listaNumeros\n",
        "        if(cadena.isdigit()):\n",
        "            numero = int(cadena)\n",
        "            if numero > 0 and cadena not in listaNumeros:\n",
        "                listaNumeros.append(cadena)\n",
        "\n",
        "\n",
        "def imprimirListaLargo(lista, mensaje1, mensaje2):\n",
        "    print(mensaje1 , lista)\n",
        "\n",
        "    print(mensaje2, len(lista))\n",
        "\n",
        "def imprimirLista(lista,mensaje):\n",
        "    print(mensaje,lista)\n",
        "\n",
        "def tranformarEntero(lista):\n",
        "\n",
        "    listaEnteros = []\n",
        "    for elemento in lista:\n",
        "        num = int(elemento)\n",
        "        listaEnteros.append(num)\n",
        "    return sorted(listaEnteros)\n",
        "\n",
        "\n",
        "def sumaDigitos(numero, largoNum):\n",
        "    sumatoria = 0\n",
        "    while numero != 0:\n",
        "        digito = numero%10\n",
        "        potencia = digito ** largoNum\n",
        "        sumatoria += potencia\n",
        "        numero = numero//10\n",
        "    return sumatoria\n",
        "\n",
        "\n",
        "def obtenerTuplas(lista):\n",
        "    listaTuplas = []\n",
        "    for elemento in lista:\n",
        "        numeroCadena = str(elemento)\n",
        "        largoNum = len(numeroCadena)\n",
        "        suma = sumaDigitos(elemento, largoNum)\n",
        "        tupla = (elemento, largoNum, suma )\n",
        "        listaTuplas.append(tupla)\n",
        "    return listaTuplas\n",
        "\n",
        "\n",
        "def nNarcisistas(listaTuplas):\n",
        "    listaN = []\n",
        "    for tupla in listaTuplas:\n",
        "        if(tupla[0] == tupla[2]):\n",
        "            listaN.append(tupla[0])\n",
        "    return listaN\n",
        "\n",
        "\n",
        "\n",
        "listaCadenas = leerCadenas()\n",
        "\n",
        "if(len(listaCadenas) == 0):\n",
        "    print(\"LISTA INICIAL DE CADENAS VACIA\")\n",
        "else:\n",
        "    imprimirListaLargo(listaCadenas,\"LISTA INICIAL DE CADENAS =\",\"TOTAL ELEMENTOS EN LISTA INICIAL DE CADENAS =\")\n",
        "    listaEnteros = tranformarEntero(listaCadenas)\n",
        "    imprimirLista(listaEnteros,\"LISTA NUMEROS EN ORDEN CRECIENTE =\")\n",
        "    tuplas = obtenerTuplas(listaEnteros)\n",
        "    imprimirLista(tuplas,\"LISTA TUPLAS =\")\n",
        "    listaNar = nNarcisistas(tuplas)\n",
        "    if(len(listaNar) == 0):\n",
        "        print(\"NO SE ENCONTRARON NÚMEROS N-NARCISISTAS EN LA LISTA\")\n",
        "    else:\n",
        "        imprimirListaLargo(listaNar,\"LISTA DE NÚMEROS N-NARCISISTAS =\",\"TOTAL ELEMENTOS EN LISTA DE NÚMEROS N-NARCISISTAS =\")\n",
        "        print(\"--- GRAN NARCISISMO ---\")\n",
        "\n",
        ""
      ],
      "metadata": {
        "id": "qProsLj3WCOG"
      },
      "execution_count": null,
      "outputs": []
    }
  ]
}