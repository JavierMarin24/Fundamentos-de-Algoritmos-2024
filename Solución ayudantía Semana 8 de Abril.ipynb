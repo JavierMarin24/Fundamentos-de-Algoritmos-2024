{
  "nbformat": 4,
  "nbformat_minor": 0,
  "metadata": {
    "colab": {
      "provenance": [],
      "authorship_tag": "ABX9TyNlaHJ5edQsyGgwYYONPdMf",
      "include_colab_link": true
    },
    "kernelspec": {
      "name": "python3",
      "display_name": "Python 3"
    },
    "language_info": {
      "name": "python"
    }
  },
  "cells": [
    {
      "cell_type": "markdown",
      "metadata": {
        "id": "view-in-github",
        "colab_type": "text"
      },
      "source": [
        "<a href=\"https://colab.research.google.com/github/JavierMarin24/Fundamentos-de-Algoritmos-2024/blob/main/Soluci%C3%B3n%20ayudant%C3%ADa%20Semana%208%20de%20Abril.ipynb\" target=\"_parent\"><img src=\"https://colab.research.google.com/assets/colab-badge.svg\" alt=\"Open In Colab\"/></a>"
      ]
    },
    {
      "cell_type": "markdown",
      "source": [
        "Pregunta 1"
      ],
      "metadata": {
        "id": "xf4pMrjCx-_F"
      }
    },
    {
      "cell_type": "code",
      "source": [
        "# ENTRADA\n",
        "totalAsistentes = int(input())\n",
        "\n",
        "# PROCESO\n",
        "cantidadMayores = 0\n",
        "for aux in range(1,totalAsistentes+1) :\n",
        "    edad = int(input())\n",
        "    if edad >= 18 :\n",
        "        cantidadMayores = cantidadMayores + 1\n",
        "if cantidadMayores == totalAsistentes :\n",
        "    print(\"Todos eran mayores de edad\")\n",
        "elif cantidadMayores == 0 :\n",
        "    print(\"No hubo mayores de edad\")\n",
        "else :\n",
        "    print(\"Cantidad de mayores de edad:\",cantidadMayores)\n",
        ""
      ],
      "metadata": {
        "id": "5XDSfYgjx-Yu"
      },
      "execution_count": null,
      "outputs": []
    },
    {
      "cell_type": "markdown",
      "source": [
        "Pregunta 2"
      ],
      "metadata": {
        "id": "kBn-WvToyEvj"
      }
    },
    {
      "cell_type": "code",
      "source": [
        "# ENTRADA\n",
        "numeroN = int(input())\n",
        "\n",
        "# PROCESO & SALIDA\n",
        "for numero in range(1,numeroN+1) :\n",
        "    if (numero % 3)>0 and (numero % 7)>0 :\n",
        "        print(numero,end=\" \")"
      ],
      "metadata": {
        "id": "9Yqo23PZx5mV"
      },
      "execution_count": null,
      "outputs": []
    },
    {
      "cell_type": "markdown",
      "source": [
        "Pregunta 3"
      ],
      "metadata": {
        "id": "BcP_W3j4yF0N"
      }
    },
    {
      "cell_type": "code",
      "execution_count": null,
      "metadata": {
        "id": "15AvE2Hzxxhz"
      },
      "outputs": [],
      "source": [
        "# ENTRADA\n",
        "a = int(input())\n",
        "b = int(input())\n",
        "\n",
        "# PROCESO\n",
        "suma = 0\n",
        "for num in range(a,b+1) :\n",
        "    if (num % 2 == 0) and (num % 3 == 0) :\n",
        "        suma = suma + num\n",
        "# SALIDA\n",
        "if suma == 0 :\n",
        "    print(\"NO EXISTEN NUMEROS DIVISIBLES POR 2 Y POR 3 EN EL INTERVALO\")\n",
        "else :\n",
        "    print(\"SUMA =\",suma)"
      ]
    }
  ]
}