{
  "nbformat": 4,
  "nbformat_minor": 0,
  "metadata": {
    "colab": {
      "provenance": []
    },
    "kernelspec": {
      "name": "python3",
      "display_name": "Python 3"
    },
    "language_info": {
      "name": "python"
    }
  },
  "cells": [
    {
      "cell_type": "markdown",
      "source": [
        "Ejercicio 1"
      ],
      "metadata": {
        "id": "A1jqcPic6hLH"
      }
    },
    {
      "cell_type": "code",
      "execution_count": null,
      "metadata": {
        "id": "59I9IcGi6f66"
      },
      "outputs": [],
      "source": [
        "while True:\n",
        "    N = int(input())\n",
        "    if N >= 1:\n",
        "        break\n",
        "\n",
        "numerador = 2\n",
        "denominador = 1\n",
        "suma = 0\n",
        "\n",
        "for i in range(N):\n",
        "    suma += (numerador/denominador)\n",
        "    numerador += 2\n",
        "    denominador += 2\n",
        "\n",
        "print(f\"El resultado de la sumatoria es {suma}\")"
      ]
    },
    {
      "cell_type": "markdown",
      "source": [
        "Ejercicio 2"
      ],
      "metadata": {
        "id": "sAO6Y43D6nMR"
      }
    },
    {
      "cell_type": "code",
      "source": [
        "while True:\n",
        "    N = int(input())\n",
        "    if N >= 1:\n",
        "        break\n",
        "\n",
        "numerador = 1\n",
        "denominador = 2\n",
        "suma = 0\n",
        "\n",
        "for i in range(N):\n",
        "    suma += (numerador/denominador)\n",
        "    numerador += 3\n",
        "    denominador += 3\n",
        "\n",
        "print(f\"El resultado de la sumatoria es {suma}\")"
      ],
      "metadata": {
        "id": "NRPq4aGc6oQ6"
      },
      "execution_count": null,
      "outputs": []
    },
    {
      "cell_type": "markdown",
      "source": [
        "Ejercicio 3"
      ],
      "metadata": {
        "id": "e60rtDsB6tMt"
      }
    },
    {
      "cell_type": "code",
      "source": [
        "# ENTRADA\n",
        "numeroN = int(input())\n",
        "\n",
        "#  PROCESO & SALIDA\n",
        "while True :\n",
        "\n",
        "    print(f\"{numeroN} ,\", end = ' ')\n",
        "    if numeroN % 2 == 0 :\n",
        "        numeroN = numeroN // 2\n",
        "    else :\n",
        "        numeroN = numeroN * 3 + 1\n",
        "\n",
        "    if numeroN == 1 :\n",
        "        break\n",
        "\n",
        "print(\"1.\")"
      ],
      "metadata": {
        "id": "wiiM4B6r6uVa"
      },
      "execution_count": null,
      "outputs": []
    },
    {
      "cell_type": "markdown",
      "source": [
        "Ejercicio 4"
      ],
      "metadata": {
        "id": "CCBI4PVQ6wqe"
      }
    },
    {
      "cell_type": "code",
      "source": [
        "altura = int(input())\n",
        "ancho = int(input())\n",
        "\n",
        "for i in range(altura):\n",
        "    for j in range(ancho):\n",
        "        print(\"*\", end = \"\")\n",
        "    print(\"\")"
      ],
      "metadata": {
        "id": "48y-_pzJ6x-X"
      },
      "execution_count": null,
      "outputs": []
    },
    {
      "cell_type": "markdown",
      "source": [
        "Ejercicio 5"
      ],
      "metadata": {
        "id": "fhbPSy1b64j-"
      }
    },
    {
      "cell_type": "code",
      "source": [
        "while True:\n",
        "    base = int(input())\n",
        "    if base > 0 and base < 21:\n",
        "        break\n",
        "\n",
        "for i in range(base):\n",
        "    for j in range(i+1):\n",
        "        print(\"*\", end = \"\")\n",
        "    print(\"\")"
      ],
      "metadata": {
        "id": "UVoTlSTA66CW"
      },
      "execution_count": null,
      "outputs": []
    }
  ]
}