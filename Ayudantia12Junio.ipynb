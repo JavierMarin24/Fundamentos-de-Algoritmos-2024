{
  "nbformat": 4,
  "nbformat_minor": 0,
  "metadata": {
    "colab": {
      "provenance": [],
      "authorship_tag": "ABX9TyMPqy959ZYA3gnSWeORDfH8",
      "include_colab_link": true
    },
    "kernelspec": {
      "name": "python3",
      "display_name": "Python 3"
    },
    "language_info": {
      "name": "python"
    }
  },
  "cells": [
    {
      "cell_type": "markdown",
      "metadata": {
        "id": "view-in-github",
        "colab_type": "text"
      },
      "source": [
        "<a href=\"https://colab.research.google.com/github/JavierMarin24/Fundamentos-de-Algoritmos-2024/blob/main/Ayudantia12Junio.ipynb\" target=\"_parent\"><img src=\"https://colab.research.google.com/assets/colab-badge.svg\" alt=\"Open In Colab\"/></a>"
      ]
    },
    {
      "cell_type": "markdown",
      "source": [
        "Pregunta 1"
      ],
      "metadata": {
        "id": "DO0ifK7nOE73"
      }
    },
    {
      "cell_type": "code",
      "execution_count": 5,
      "metadata": {
        "colab": {
          "base_uri": "https://localhost:8080/"
        },
        "id": "nhWPst6A0sls",
        "outputId": "9e586f3d-bb08-4bb7-833c-151572f7c0c6"
      },
      "outputs": [
        {
          "output_type": "stream",
          "name": "stdout",
          "text": [
            "123\n"
          ]
        }
      ],
      "source": [
        "def filtroEnMenu(tipo,valor,lista) :\n",
        "    total = 0\n",
        "    print(\"Listado de\",tipo,\"(s) menores a $\",valor,\":\")\n",
        "    for tup in lista :\n",
        "        if tup[2] == tipo and tup[3] < valor :\n",
        "            print(tup[1],\"= $\",tup[3])\n",
        "            total = total + 1\n",
        "    if total == 0 :\n",
        "        print(\"no hay información disponible\")\n",
        "\n",
        "def valorarConsumo(LC,LM) :\n",
        "    total = 0\n",
        "    print(\"cantidad - plato - valor\")\n",
        "    print(\"------------------------\")\n",
        "    for itemConsumo in LC :\n",
        "        codigo,cantidad = itemConsumo\n",
        "        for itemMenu in LM :\n",
        "            codM,nom,tipo,precio = itemMenu\n",
        "            if codM == codigo :\n",
        "                break\n",
        "        totalItem = precio * cantidad\n",
        "        total = total + totalItem\n",
        "        print(cantidad,nom,\"$\",totalItem)\n",
        "    print(\"TOTAL = $\",total)\n",
        ""
      ]
    },
    {
      "cell_type": "markdown",
      "source": [
        "Pregunta 2"
      ],
      "metadata": {
        "id": "3w-33bGPOMBB"
      }
    },
    {
      "cell_type": "code",
      "source": [
        "from math import sqrt\n",
        "\n",
        "def puntoInC (pto,circle):\n",
        "    xp,yp = pto\n",
        "    centroC,radio = circle\n",
        "    xc,yc = centroC\n",
        "    distancia = sqrt( (xp-xc)**2 + (yp-yc)**2 )\n",
        "    return distancia < radio\n",
        "\n",
        "def procesarPuntos(LP,LC) :\n",
        "    print(\"----- PROCESO DE LISTA DE PUNTOS EN FUNCIÓN -----\")\n",
        "    for punto in LP :\n",
        "        total = 0\n",
        "        print(\"Punto\",punto,\"se encuentra al interior de\")\n",
        "        for circunferencia in LC:\n",
        "            if puntoInC(punto,circunferencia):\n",
        "                print(circunferencia)\n",
        "                total = total + 1\n",
        "        if total == 0 :\n",
        "            print(\"ninguna circunferencia de la lista\")\n"
      ],
      "metadata": {
        "id": "VEY_YqJZOa1C"
      },
      "execution_count": null,
      "outputs": []
    }
  ]
}