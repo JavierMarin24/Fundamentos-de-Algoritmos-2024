{
  "nbformat": 4,
  "nbformat_minor": 0,
  "metadata": {
    "colab": {
      "provenance": [],
      "authorship_tag": "ABX9TyOxAZzBm77TZTpdgg6ApAL3",
      "include_colab_link": true
    },
    "kernelspec": {
      "name": "python3",
      "display_name": "Python 3"
    },
    "language_info": {
      "name": "python"
    }
  },
  "cells": [
    {
      "cell_type": "markdown",
      "metadata": {
        "id": "view-in-github",
        "colab_type": "text"
      },
      "source": [
        "<a href=\"https://colab.research.google.com/github/JavierMarin24/Fundamentos-de-Algoritmos-2024/blob/main/Ayudantia%2022%20de%20Mayo.ipynb\" target=\"_parent\"><img src=\"https://colab.research.google.com/assets/colab-badge.svg\" alt=\"Open In Colab\"/></a>"
      ]
    },
    {
      "cell_type": "markdown",
      "source": [
        "Pregunta 1"
      ],
      "metadata": {
        "id": "05o3PmswAE3F"
      }
    },
    {
      "cell_type": "code",
      "execution_count": null,
      "metadata": {
        "id": "jCR0hKk8_3W1"
      },
      "outputs": [],
      "source": [
        "def poblarLista (n) :\n",
        "    lista = []\n",
        "    for aux in range (n) :\n",
        "        dato = int(input())\n",
        "        lista.append(dato)\n",
        "    return lista\n",
        "\n",
        "def printList(lista) :\n",
        "    for aux in lista :\n",
        "        print(aux,end=\" \")\n",
        "\n",
        "def transfCaK (lis) :\n",
        "    CTE = 273.15\n",
        "    nva = []\n",
        "    for aux in lis :\n",
        "        nva.append(aux + CTE)\n",
        "    return nva\n",
        "\n",
        "# main\n",
        "n = int(input())\n",
        "TempC = poblarLista(n)\n",
        "TempK = transfCaK(TempC)\n",
        "printList(TempK)\n",
        "# fin"
      ]
    },
    {
      "cell_type": "markdown",
      "source": [
        "Pregunta 2"
      ],
      "metadata": {
        "id": "SUE14ZzeAGQ1"
      }
    },
    {
      "cell_type": "code",
      "source": [
        "def poblarLista () :\n",
        "    lis = []\n",
        "    dato = int(input())\n",
        "    while dato > 0 :\n",
        "        lis.append(dato)\n",
        "        #lis += [dato]\n",
        "        dato = int(input())\n",
        "    return lis\n",
        "\n",
        "def aumentarDisminuir(lis) :\n",
        "# Aumenta en una unidad -- posiciones pares\n",
        "# Disminuir en una unidad -- posiciones impares\n",
        "    largo = len(lis)\n",
        "    for ind in range(largo):\n",
        "        if ind % 2 == 0 :\n",
        "            lis[ind] = lis[ind] + 1\n",
        "        else :\n",
        "            lis[ind] = lis[ind] - 1\n",
        "\n",
        "# main\n",
        "miLista = poblarLista()\n",
        "print(\"Lista Original =\",miLista)\n",
        "aumentarDisminuir(miLista)\n",
        "print(\"Lista Nueva =\",miLista)\n",
        "# fin\n",
        "\n",
        "\n",
        ""
      ],
      "metadata": {
        "id": "me_7j_oN_4Bb"
      },
      "execution_count": null,
      "outputs": []
    },
    {
      "cell_type": "markdown",
      "source": [
        "Pregunta 3"
      ],
      "metadata": {
        "id": "mpEhtXSOAHTY"
      }
    },
    {
      "cell_type": "code",
      "source": [
        "def leerPoblarLista(total) :\n",
        "    lis = []\n",
        "    for aux in range(total) :\n",
        "        dato = int(input())\n",
        "        lis.append(dato)\n",
        "    return lis\n",
        "\n",
        "def tieneDistCte(lis):\n",
        "    distancia = abs( lis[0] - lis[1])\n",
        "    for aux in range(1,len(lis)-1) :\n",
        "        if abs(lis[aux] - lis[aux+1]) != distancia :\n",
        "            return False\n",
        "    return True\n",
        "\n",
        "# main\n",
        "n = int(input())\n",
        "miLista = leerPoblarLista(n)\n",
        "print(\"Lista =\",miLista)\n",
        "if tieneDistCte(miLista) :\n",
        "    print(\"Los elementos de la lista tienen una distancia constante\")\n",
        "else :\n",
        "    print(\"Los elementos de la lista NO tienen una distancia constante\")\n",
        "# fin"
      ],
      "metadata": {
        "id": "oY0QU5aVABI3"
      },
      "execution_count": null,
      "outputs": []
    },
    {
      "cell_type": "markdown",
      "source": [
        "Pregunta 4"
      ],
      "metadata": {
        "id": "PBEbqBh2AIe1"
      }
    },
    {
      "cell_type": "code",
      "source": [
        "def lecturaLista(num) :\n",
        "    lis = []\n",
        "    for aux in range(num) :\n",
        "        dato = int(input())\n",
        "        lis.append(dato)\n",
        "    return lis\n",
        "\n",
        "def esAlternada(lis) :\n",
        "    for aux in range(len(lis)-1) :\n",
        "        if not ( (lis[aux] % 2 == 0 and lis[aux+1] % 2 != 0)\n",
        "                  or (lis[aux] % 2 != 0 and lis[aux+1] % 2 == 0) ) :\n",
        "            return False\n",
        "    return True\n",
        "\n",
        "# main\n",
        "\n",
        "n = int(input())\n",
        "miLista = lecturaLista(n)\n",
        "print(\"Lista =\",miLista)\n",
        "\n",
        "if esAlternada(miLista) :\n",
        "    resp = \"SI\"\n",
        "else:\n",
        "    resp = \"NO\"\n",
        "print(\"La lista\",resp,\"es alternada par-impar\")\n",
        "# fin"
      ],
      "metadata": {
        "id": "n4hGHF-BADsn"
      },
      "execution_count": null,
      "outputs": []
    }
  ]
}