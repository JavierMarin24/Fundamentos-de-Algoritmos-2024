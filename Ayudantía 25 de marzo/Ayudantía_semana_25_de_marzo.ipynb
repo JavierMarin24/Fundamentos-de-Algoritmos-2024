{
  "nbformat": 4,
  "nbformat_minor": 0,
  "metadata": {
    "colab": {
      "provenance": []
    },
    "kernelspec": {
      "name": "python3",
      "display_name": "Python 3"
    },
    "language_info": {
      "name": "python"
    }
  },
  "cells": [
    {
      "cell_type": "markdown",
      "source": [
        "Ejercicio 1"
      ],
      "metadata": {
        "id": "P19VNmnlTt1z"
      }
    },
    {
      "cell_type": "code",
      "execution_count": null,
      "metadata": {
        "id": "PN5v7C7AToZj"
      },
      "outputs": [],
      "source": [
        "# Variables a utilizar\n",
        "n_episodio = int(input())\n",
        "n_nivel = int(input())\n",
        "ptje_min = int(input())\n",
        "ptje_obt = int(input())\n",
        "vidas_restantes = int(input())\n",
        "\n",
        "\"\"\"\n",
        "Se valida si el jugador logró superar el nivel, según el puntaje obtenido, y el\n",
        "puntaje mínimo especificado en la entrada.\n",
        "\"\"\"\n",
        "if ptje_obt >= ptje_min:\n",
        "    print('Genial nivel superado !')\n",
        "\n",
        "    \"\"\" Se verifica el número de estrellas obtenidas, según la razón entre el\n",
        "    ptje obtenido, y el ptje mínimo para superar el nivel. \"\"\"\n",
        "    if ptje_obt / ptje_min >= 3:\n",
        "        print('Obtuviste 3 estrellas.')\n",
        "    elif ptje_obt / ptje_min >= 2:\n",
        "        print('Obtuviste 2 estrellas.')\n",
        "    else:\n",
        "        print('Obtuviste 1 estrella.')\n",
        "\n",
        "    \"\"\" Se verifica si el jugador completó el episodio completo, o si pasa de\n",
        "    nivel dentro del mismo episodio. Se imprime el mensaje correspondiente. \"\"\"\n",
        "    if n_nivel == 15:\n",
        "        print(f'Completaste el episodio {n_episodio}')\n",
        "    else:\n",
        "        print(f'Pasaste al nivel {n_nivel + 1} del episodio {n_episodio}')\n",
        "else:\n",
        "    print('Nivel no superado NO lograste el objetivo')\n",
        "\n",
        "    # Se resta 1 vida por el intento fallido\n",
        "    vidas_restantes -= 1\n",
        "\n",
        "    \"\"\" Se verifica las vidas restantes del jugador, y se muestra por pantalla\n",
        "    el mensaje respectivo. \"\"\"\n",
        "    if vidas_restantes > 0:\n",
        "        if vidas_restantes == 1:\n",
        "            print('Te queda 1 vida.')\n",
        "        else:\n",
        "            print(f'Te quedan {vidas_restantes} vidas.')\n",
        "    else:\n",
        "        print('No te quedan más vidas.')"
      ]
    },
    {
      "cell_type": "markdown",
      "source": [
        "Ejercicio 2"
      ],
      "metadata": {
        "id": "3Bu9uLKgUIJ8"
      }
    },
    {
      "cell_type": "code",
      "source": [
        "#Leemos y asignamos las variables\n",
        "cargo_fijo = float(input())\n",
        "consumo_agua = float(input())\n",
        "valor_unitario_agua = float(input())\n",
        "valor_unitario_recolectada = float(input())\n",
        "valor_unitario_tratada = float(input())\n",
        "\n",
        "# Mostrar cargo fijo mensual\n",
        "print(\"BOLETA ESVALPITO\")\n",
        "print(f\"Cargo Fijo = ${cargo_fijo}\")\n",
        "\n",
        "# Calcular cantidad de m3 de agua consumida\n",
        "m3_consumidos = consumo_agua / 1000  # Convertir litros a metros cúbicos\n",
        "print(f\"Metros cúbicos de agua consumidos = {m3_consumidos}\")\n",
        "\n",
        "# Calcular montos parciales\n",
        "monto_consumo_agua = m3_consumidos * valor_unitario_agua\n",
        "monto_recolectada = m3_consumidos * valor_unitario_recolectada\n",
        "monto_tratada = m3_consumidos * valor_unitario_tratada\n",
        "\n",
        "# Mostrar montos parciales\n",
        "print(f\"Monto parcial por agua consumida = ${monto_consumo_agua}\")\n",
        "print(f\"Monto parcial por agua recolectada = ${monto_recolectada}\")\n",
        "print(f\"Monto parcial por agua tratada = ${monto_tratada}\")\n",
        "\n",
        "# Calcular cargo por sobreconsumo\n",
        "sobreconsumo = m3_consumidos - 40  # Se considera el mínimo de 40m3\n",
        "porcentaje_recargo = 0\n",
        "\n",
        "#Un 'if' por cada caso de la tabla\n",
        "if sobreconsumo >= 0:\n",
        "    if sobreconsumo < 5:\n",
        "        porcentaje_recargo = 0.15\n",
        "    elif sobreconsumo < 10:\n",
        "        porcentaje_recargo = 0.2\n",
        "    elif sobreconsumo < 25:\n",
        "        porcentaje_recargo = 0.3\n",
        "    else:\n",
        "        porcentaje_recargo = 0.55\n",
        "    print(f\"Cliente presenta sobreconsumo, su recargo es de un {int(porcentaje_recargo * 100)}%\")\n",
        "else:\n",
        "    print(\"Cliente no presenta sobreconsumo\")\n",
        "\n",
        "# Calcular monto total\n",
        "monto_total_sin_recargo = cargo_fijo + monto_consumo_agua + monto_recolectada + monto_tratada\n",
        "if sobreconsumo >= 0:\n",
        "    monto_total_con_recargo = monto_total_sin_recargo + (monto_total_sin_recargo * porcentaje_recargo)\n",
        "    print(f\"Monto Total Antes del recargo = ${monto_total_sin_recargo}\")\n",
        "    print(f\"Monto Total a Pagar = ${monto_total_con_recargo}\")\n",
        "else:\n",
        "    print(f\"Monto Total a Pagar = ${monto_total_sin_recargo}\")\n"
      ],
      "metadata": {
        "id": "NqrIdz8pUJkO"
      },
      "execution_count": null,
      "outputs": []
    },
    {
      "cell_type": "markdown",
      "source": [
        "Ejercicio 3"
      ],
      "metadata": {
        "id": "pikaqpheUZJY"
      }
    },
    {
      "cell_type": "code",
      "source": [
        "#Leemos y asignamos las variables\n",
        "patente = input()\n",
        "categoriaVehiculo = int(input())\n",
        "categoriaTarifa = input()\n",
        "longitudKms = float(input())\n",
        "\n",
        "#Según la categoría de vehículo y la categoría de su tarifa se calcula el tramo en kms\n",
        "if categoriaVehiculo == 1 :\n",
        "    valorReferencia = 90\n",
        "    if categoriaTarifa == \"BAJA\" :\n",
        "        valorKms = valorReferencia\n",
        "    elif categoriaTarifa == \"MEDIA\" :\n",
        "        valorKms = valorReferencia * 2\n",
        "    elif categoriaTarifa == \"ALTA\" :\n",
        "        valorKms = valorReferencia * 3\n",
        "elif categoriaVehiculo == 2 :\n",
        "    valorReferencia = 360\n",
        "    if categoriaTarifa == \"BAJA\" :\n",
        "        valorKms = valorReferencia / 2\n",
        "    elif categoriaTarifa == \"MEDIA\" :\n",
        "        valorKms = valorReferencia\n",
        "    elif categoriaTarifa == \"ALTA\" :\n",
        "        valorKms = (valorReferencia / 2) * 3\n",
        "elif categoriaVehiculo == 3 :\n",
        "    valorReferencia = 780\n",
        "    if categoriaTarifa == \"BAJA\" :\n",
        "        valorKms = valorReferencia / 3\n",
        "    elif categoriaTarifa == \"MEDIA\" :\n",
        "        valorKms = (valorReferencia / 3) * 2\n",
        "    elif categoriaTarifa == \"ALTA\" :\n",
        "        valorKms = valorReferencia\n",
        "elif categoriaVehiculo == 4 :\n",
        "    valorReferencia = 100\n",
        "    if categoriaTarifa == \"BAJA\" :\n",
        "        valorKms = valorReferencia\n",
        "    elif categoriaTarifa == \"MEDIA\" :\n",
        "        valorKms = valorReferencia * 3\n",
        "    elif categoriaTarifa == \"ALTA\" :\n",
        "        valorKms = valorReferencia * 5\n",
        "\n",
        "#Se saca el valor del peaje y se trunca\n",
        "valorPeaje = valorKms * longitudKms\n",
        "valorPeajeTruncado = int(valorPeaje)\n",
        "\n",
        "#Calculo de descuento\n",
        "if valorPeajeTruncado < 2000 :\n",
        "    porcentajeDescuento = 0\n",
        "elif valorPeajeTruncado < 5000 :\n",
        "    porcentajeDescuento = 7\n",
        "elif valorPeajeTruncado <= 10000 :\n",
        "    porcentajeDescuento = 12\n",
        "else :\n",
        "    porcentajeDescuento = 15\n",
        "\n",
        "#Se define el valor del peaje final y se trunca\n",
        "peajeFinal = valorPeajeTruncado * (100-porcentajeDescuento)/100\n",
        "peajeFinalTruncado = int(peajeFinal)\n",
        "\n",
        "#Impresión de mensajes finales\n",
        "print(\"Vehículo Placa Patente :\",patente)\n",
        "print(\"Categoría del Vehículo :\",categoriaVehiculo)\n",
        "print(\"Categoría Tarifa :\",categoriaTarifa)\n",
        "print(\"Distancia recorrida por el vehículo =\",longitudKms,\"kms.\")\n",
        "\n",
        "print(f\"Valor del peaje calculado es ${valorPeajeTruncado}\")\n",
        "\n",
        "if porcentajeDescuento == 0 :\n",
        "    print(\"No se aplica descuento\")\n",
        "else :\n",
        "    print(f\"Se aplica descuento del {porcentajeDescuento}%\")\n",
        "    print(f\"Valor Final del peaje a pagar es ${peajeFinalTruncado}\")"
      ],
      "metadata": {
        "id": "88yn1-zAUaOx"
      },
      "execution_count": null,
      "outputs": []
    }
  ]
}